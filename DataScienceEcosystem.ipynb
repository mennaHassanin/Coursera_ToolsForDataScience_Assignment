{
 "cells": [
  {
   "cell_type": "markdown",
   "id": "92371aab",
   "metadata": {},
   "source": [
    "# Data Science Tools and Ecosystem"
   ]
  },
  {
   "cell_type": "markdown",
   "id": "a43e12ad",
   "metadata": {},
   "source": [
    "## In this notebook, Data Science Tools and Ecosystem are summarized."
   ]
  },
  {
   "cell_type": "markdown",
   "id": "59251a11",
   "metadata": {},
   "source": [
    "<b> Objectives: <b>\n",
    "<ul>\n",
    "<li>List popular languages for Data Science</li>\n",
    "<li>list libraries, APIs, Datasets and Models</li>\n",
    "<li>Hands on Jupyter and JupyterLab</li>\n",
    "</ul>"
   ]
  },
  {
   "cell_type": "markdown",
   "id": "295e84dd",
   "metadata": {},
   "source": [
    "### Some of the popular languages that Data Scientists use are:\n",
    "<ol>\n",
    "<li>python</li>\n",
    "<li>R</li>\n",
    "<li>Julia</li>\n",
    "</ol>\n",
    "<hr> \n",
    "\n",
    "### Some of the commonly used libraries used by Data Scientists include:\n",
    "<ol>\n",
    "<li>Matplotlib</li>\n",
    "<li>Pandas</li>\n",
    "<li>Numpy</li>\n",
    "</ol>"
   ]
  },
  {
   "cell_type": "markdown",
   "id": "35ecfee4",
   "metadata": {},
   "source": [
    "| Data Science Tools|\n",
    "| -------------|\n",
    "| Jupyter Notebooks |\n",
    "| RStudio  |\n",
    "| Pytorch |"
   ]
  },
  {
   "cell_type": "markdown",
   "id": "4db935b5",
   "metadata": {},
   "source": [
    "### Below are a few examples of evaluating arithmetic expressions in Python:"
   ]
  },
  {
   "cell_type": "code",
   "execution_count": 4,
   "id": "c64c9973",
   "metadata": {},
   "outputs": [
    {
     "data": {
      "text/plain": [
       "17"
      ]
     },
     "execution_count": 4,
     "metadata": {},
     "output_type": "execute_result"
    }
   ],
   "source": [
    "# This a simple arithmetic expression to mutiply then add integers\n",
    "(3*4)+5"
   ]
  },
  {
   "cell_type": "code",
   "execution_count": 6,
   "id": "52ad8212",
   "metadata": {},
   "outputs": [
    {
     "data": {
      "text/plain": [
       "3.3333333333333335"
      ]
     },
     "execution_count": 6,
     "metadata": {},
     "output_type": "execute_result"
    }
   ],
   "source": [
    "# This will convert 200 minutes to hours by diving by 60\n",
    "200/60"
   ]
  },
  {
   "cell_type": "markdown",
   "id": "f0e34e64",
   "metadata": {},
   "source": [
    "## Author \n",
    "Menna"
   ]
  }
 ],
 "metadata": {
  "kernelspec": {
   "display_name": "Python 3 (ipykernel)",
   "language": "python",
   "name": "python3"
  },
  "language_info": {
   "codemirror_mode": {
    "name": "ipython",
    "version": 3
   },
   "file_extension": ".py",
   "mimetype": "text/x-python",
   "name": "python",
   "nbconvert_exporter": "python",
   "pygments_lexer": "ipython3",
   "version": "3.11.5"
  }
 },
 "nbformat": 4,
 "nbformat_minor": 5
}
